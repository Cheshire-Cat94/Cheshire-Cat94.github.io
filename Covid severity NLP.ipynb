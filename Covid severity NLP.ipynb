{
 "cells": [
  {
   "cell_type": "markdown",
   "metadata": {},
   "source": [
    "<h1>Tracking the urgency of COVID19-communication over time</h1>"
   ]
  },
  {
   "cell_type": "markdown",
   "metadata": {},
   "source": [
    "<h3> How? </h3>\n",
    "We use four different datasets: official government communication, The Guardian, The Telegraph, and Twitter.\n",
    "\n",
    "Chosen periods of time (clustered around peaks in ICU occupancy, and the absolute low with regard to ICU occupancy): \\\n",
    "(1) First peak: April 12, 2020 [09.04.2020 - 15.04.2020] \\\n",
    "(2) Absolute low: August 28, 2020 [25.08.2020 - 31.08.2020] \\\n",
    "(3) Second (absolute) peak: January 24, 20201 [21.01.2021 - 27.01.2021]"
   ]
  },
  {
   "cell_type": "markdown",
   "metadata": {
    "pycharm": {
     "name": "#%% md\n"
    }
   },
   "source": [
    "<h3>Get Government Communication</h3>\n",
    "We use Web Scraper to grab official Government Communication (from gov.uk) filtering by topic 'Coronavirus' and the time periods. \\\\\n",
    "\n",
    "The resulting excel sheets can be found here:\\\n",
    "https://sciencespofr-my.sharepoint.com/personal/alexander_elg_sciencespo_fr/_layouts/15/guestaccess.aspx?guestaccesstoken=OWpRapvufQKSs0mCuwyL%2F0k%2Fb8dXGwgTXUDmkBwARDs%3D&folderid=2_0d75e4121abe34d2abcc5fd23b1eed5a6&rev=1&e=uviguj"
   ]
  },
  {
   "cell_type": "code",
   "execution_count": 1,
   "metadata": {},
   "outputs": [],
   "source": [
    "import pandas as pd\n",
    "import json\n",
    "import spacy\n",
    "import requests \n",
    "import random"
   ]
  },
  {
   "cell_type": "markdown",
   "metadata": {},
   "source": [
    "<h4>Data scraping Official Statements</h4>"
   ]
  },
  {
   "cell_type": "code",
   "execution_count": 2,
   "metadata": {},
   "outputs": [
    {
     "name": "stdout",
     "output_type": "stream",
     "text": [
      "Requirement already satisfied: openpyxl in /Users/sina/opt/anaconda3/lib/python3.9/site-packages (3.0.9)\n",
      "Requirement already satisfied: et-xmlfile in /Users/sina/opt/anaconda3/lib/python3.9/site-packages (from openpyxl) (1.1.0)\n",
      "Note: you may need to restart the kernel to use updated packages.\n"
     ]
    }
   ],
   "source": [
    "#we need openpyxl to open excel sheets\n",
    "%pip install 'openpyxl'"
   ]
  },
  {
   "cell_type": "code",
   "execution_count": 3,
   "metadata": {},
   "outputs": [],
   "source": [
    "import openpyxl\n",
    "officialTP1 = pd.read_excel(\"govtp11.xlsx\")\n",
    "officialTP2 = pd.read_excel(\"govtp2.xlsx\")\n",
    "officialTP3 = pd.read_excel(\"govtp3_1.xlsx\")"
   ]
  },
  {
   "cell_type": "markdown",
   "metadata": {},
   "source": [
    "We define a function to extract data from excel sheets into Python dictionaries, where the article title is stored as Key, and its text as Value"
   ]
  },
  {
   "cell_type": "code",
   "execution_count": 4,
   "metadata": {},
   "outputs": [],
   "source": [
    "def dictget(df, key, value):\n",
    "    titlel = df[key].tolist()\n",
    "    textl = df[value].tolist()\n",
    "    results = {}\n",
    "    for i in range(len(titlel)):\n",
    "        results[titlel[i]]=textl[i]\n",
    "    return results"
   ]
  },
  {
   "cell_type": "code",
   "execution_count": 5,
   "metadata": {},
   "outputs": [],
   "source": [
    "# get dictionary for TP1\n",
    "of1_dic = dictget(officialTP1, 'arttitle', 'combinedarttex')"
   ]
  },
  {
   "cell_type": "code",
   "execution_count": 6,
   "metadata": {},
   "outputs": [],
   "source": [
    "# get dictionary for TP2\n",
    "of2_dic = dictget(officialTP2, 'arttitle', 'combinedarttex')"
   ]
  },
  {
   "cell_type": "code",
   "execution_count": 7,
   "metadata": {},
   "outputs": [],
   "source": [
    "# get dictionary for TP3\n",
    "of3_dic = dictget(officialTP3, 'arttitle', 'combinedarttex')"
   ]
  },
  {
   "cell_type": "markdown",
   "metadata": {},
   "source": [
    "<h3>Get text from The Guardian</h3>\n",
    "The Guardian provides a comprehensive API that gives users access to everything except pictures and possible audio clips. We can therefore scrape every single word on specific topics during our chosen time periods."
   ]
  },
  {
   "cell_type": "markdown",
   "metadata": {},
   "source": [
    "<h4>Data scraping The Guardian</h4>"
   ]
  },
  {
   "cell_type": "markdown",
   "metadata": {},
   "source": [
    "We define a function that uses a modified version of the NYT API function to scrape full article texts from The Guardian using its API"
   ]
  },
  {
   "cell_type": "code",
   "execution_count": 8,
   "metadata": {},
   "outputs": [],
   "source": [
    "import json\n",
    "import spacy\n",
    "import requests \n",
    "import numpy as np\n",
    "import pandas as pd\n",
    "import warnings\n",
    "\n",
    "def searchguard(api_key,tag,q,begin_date,end_date, pages):\n",
    "    \n",
    "    qs = q.split()\n",
    "    \"\"\"Returns a list of articles for a given query\n",
    "    \n",
    "    Parameters:\n",
    "    api_key (str): your Guardian api key\n",
    "    keyword (str): a keyword by which you want to filter the articles\n",
    "    begin_date (str): a begin date in the format \"YYYYMMDD\"\n",
    "    end_date (str): a begin date in the format \"YYYYMMDD\"\n",
    "    pages (int): how many pages to run through (you get 10 articles per page)\n",
    "    tag (str): the specific tag you're searching for (structured like {main topic}/{subtopic})\n",
    "    \n",
    "    \n",
    "    It should be able to process multiple keywords\n",
    "    Returns:\n",
    "    docs (list): a list of articles as dictionaries\n",
    "    \"\"\"\n",
    "    st = \"\"\n",
    "    docs = []\n",
    "    if len(qs) > 1:\n",
    "        for w in qs:\n",
    "            st += w + \"%20OR%20\"\n",
    "    else:\n",
    "        st = qs[0]\n",
    "    for i in range(pages):\n",
    "        #pagination starts at 1 hence\n",
    "        i = i+1\n",
    "        api = f\"https://content.guardianapis.com/search?page={i}&q={st}&tag={tag}&from-date={begin_date}&to-date={end_date}&show-fields=bodyText&api-key={api_key}\"   \n",
    "        response = requests.get(api)\n",
    "        data = response.json()\n",
    "        docs.append(data)  \n",
    "    return docs\n",
    "\n",
    "def results(l):\n",
    "    #every list index contains a dictionary. iterate through them\n",
    "    #and initialise dictionary to return   \n",
    "    results={}\n",
    "    for q in l:\n",
    "        #this layer contains a list of dictionaries. iterate through them\n",
    "        for w in q.values():\n",
    "            #this **should** create a list with -- you know it -- more dictionaries\n",
    "            res = w['results']\n",
    "            for k in res:\n",
    "                #iterate through values in this final nested dictionary\n",
    "                for v in k.keys():\n",
    "                    #and create a new dictionary into which to put the articles\n",
    "                    results[k['webTitle']]=k['fields']['bodyText']             \n",
    "    return results\n",
    "\n",
    "api_key = \"55f57dcd-e04e-4905-8734-e598ff187eaf\"\n",
    "begin_date_TP1 = \"2020-04-09\"\n",
    "end_date_TP1 = \"2020-04-15\"\n",
    "begin_date_TP2 = \"2020-08-25\"\n",
    "end_date_TP2 = \"2020-08-31\"\n",
    "begin_date_TP3 = \"2021-01-21\"\n",
    "end_date_TP3 = \"2021-01-27\"\n",
    "tag = \"politics/health\"\n",
    "q = 'covid'"
   ]
  },
  {
   "cell_type": "markdown",
   "metadata": {},
   "source": [
    "Running the code below creates a dictionary with headlines as Keys and body text as Values. We can change tags and search query whenever through changing tag and q.\\\n",
    "It takes as arguments api_key, tag, q, begin date, end date, and the amound of pages (1 page returns 10 articles)"
   ]
  },
  {
   "cell_type": "code",
   "execution_count": 9,
   "metadata": {},
   "outputs": [],
   "source": [
    "#TP1\n",
    "p = 3\n",
    "gtp1_dic = (results(searchguard(api_key, tag, q, begin_date_TP1, end_date_TP1, p)))"
   ]
  },
  {
   "cell_type": "code",
   "execution_count": 10,
   "metadata": {},
   "outputs": [
    {
     "name": "stdout",
     "output_type": "stream",
     "text": [
      "23\n"
     ]
    }
   ],
   "source": [
    "print(len(gtp1_dic.keys()))"
   ]
  },
  {
   "cell_type": "code",
   "execution_count": 11,
   "metadata": {},
   "outputs": [],
   "source": [
    "#TP2\n",
    "p = 2 #query only returns 16 articles, hence the lower p\n",
    "gtp2_dic = (results(searchguard(api_key, tag, q, begin_date_TP2, end_date_TP2, p)))"
   ]
  },
  {
   "cell_type": "code",
   "execution_count": 12,
   "metadata": {},
   "outputs": [],
   "source": [
    "#TP3\n",
    "p = 3\n",
    "gtp3_dic = (results(searchguard(api_key, tag, q, begin_date_TP3, end_date_TP3, p)))"
   ]
  },
  {
   "cell_type": "markdown",
   "metadata": {},
   "source": [
    "<h3> Get text from The Telegraph</h3>\n",
    "The following snippets of code use Mediacloud and Minet to extract articles from The Telegraph."
   ]
  },
  {
   "cell_type": "markdown",
   "metadata": {},
   "source": [
    "<h4>Data scraping The Telegraph</h4>"
   ]
  },
  {
   "cell_type": "markdown",
   "metadata": {},
   "source": [
    "Supporting Mediacloud code:"
   ]
  },
  {
   "cell_type": "code",
   "execution_count": 13,
   "metadata": {
    "pycharm": {
     "name": "#%%\n"
    }
   },
   "outputs": [
    {
     "name": "stdout",
     "output_type": "stream",
     "text": [
      "Requirement already satisfied: python-dotenv in /Users/sina/opt/anaconda3/lib/python3.9/site-packages (0.19.2)\n",
      "Requirement already satisfied: mediacloud in /Users/sina/opt/anaconda3/lib/python3.9/site-packages (3.12.5)\n",
      "Requirement already satisfied: requests in /Users/sina/opt/anaconda3/lib/python3.9/site-packages (from mediacloud) (2.27.1)\n",
      "Requirement already satisfied: idna<4,>=2.5 in /Users/sina/opt/anaconda3/lib/python3.9/site-packages (from requests->mediacloud) (3.2)\n",
      "Requirement already satisfied: certifi>=2017.4.17 in /Users/sina/opt/anaconda3/lib/python3.9/site-packages (from requests->mediacloud) (2021.10.8)\n",
      "Requirement already satisfied: charset-normalizer~=2.0.0 in /Users/sina/opt/anaconda3/lib/python3.9/site-packages (from requests->mediacloud) (2.0.12)\n",
      "Requirement already satisfied: urllib3<1.27,>=1.21.1 in /Users/sina/opt/anaconda3/lib/python3.9/site-packages (from requests->mediacloud) (1.26.7)\n"
     ]
    },
    {
     "data": {
      "text/plain": [
       "{'active_crawled_feeds': 162441,\n",
       " 'active_crawled_media': 58074,\n",
       " 'daily_downloads': 1131439,\n",
       " 'daily_stories': 636775,\n",
       " 'mediacloud_stats_id': 10,\n",
       " 'stats_date': '2022-04-03',\n",
       " 'total_downloads': 0,\n",
       " 'total_sentences': 0,\n",
       " 'total_stories': 0}"
      ]
     },
     "execution_count": 13,
     "metadata": {},
     "output_type": "execute_result"
    }
   ],
   "source": [
    "!pip install python-dotenv\n",
    "!pip install mediacloud\n",
    "\n",
    "from dotenv import load_dotenv\n",
    "load_dotenv()  # load config from .env file\n",
    "\n",
    "import os, mediacloud.api\n",
    "# Read your personal API key from that .env file\n",
    "MC_API_KEY='a514f7d36dcb83bd196d4c2786500c8ef158f76af306e464afad27749de31d29'\n",
    "my_mc_api_key = os.getenv(MC_API_KEY)\n",
    "# A convention we use is to name your api client `mc`\n",
    "mc = mediacloud.api.MediaCloud(MC_API_KEY)\n",
    "mediacloud.__version__\n",
    "\n",
    "# make sure your connection and API key work by asking for the high-level system statistics\n",
    "mc.stats()"
   ]
  },
  {
   "cell_type": "code",
   "execution_count": 14,
   "metadata": {
    "pycharm": {
     "name": "#%%\n"
    }
   },
   "outputs": [],
   "source": [
    "# Telegraph media_id: '1750'\n",
    "matching_sources = mc.mediaList(name_like='telegraph', sort='num_stories')"
   ]
  },
  {
   "cell_type": "markdown",
   "metadata": {},
   "source": [
    "We define a number of functions to extract article text from The Telegraph. Headlines are stored as Keys and text is stored as Values."
   ]
  },
  {
   "cell_type": "code",
   "execution_count": 15,
   "metadata": {},
   "outputs": [],
   "source": [
    "#!pip install newspaper3k\n",
    "from tqdm import tqdm\n",
    "from newspaper import Article\n",
    "import datetime\n",
    "\n",
    "def url_to_text(url):\n",
    "    article = Article(url)\n",
    "    article.download()\n",
    "    article.parse()\n",
    "    text = article.text\n",
    "    return text\n",
    "\n",
    "#since everything else is provided as a dictionary, let's do it here too\n",
    "def teldic (l):\n",
    "    result = {}\n",
    "    for i in range(len(l)):\n",
    "        result[i]=l[i]\n",
    "    return result\n",
    "\n",
    "query = \"((UK OR England) AND (quarantine OR lockdown OR covid19 OR coronavirus OR corona OR pandemic))\"\n",
    "\n",
    "#generic function to retrieve articles from the telegraph\n",
    "def searchtel(begindate, enddate, query):\n",
    "    fetch_size = 100000\n",
    "    stories = []\n",
    "    last_processed_stories_id = 0\n",
    "    while len(stories) < 2000:\n",
    "        fetched_stories = mc.storyList(solr_query= f\"{query} AND media_id:1750\", # Telegraph media_id=1750\n",
    "                                   solr_filter=mc.dates_as_query_clause(begindate, enddate),\n",
    "                                   last_processed_stories_id=last_processed_stories_id, rows= fetch_size)\n",
    "        stories.extend(fetched_stories)\n",
    "        if len( fetched_stories) < fetch_size:\n",
    "            break\n",
    "        last_processed_stories_id = stories[-1]['processed_stories_TP1_id']\n",
    "\n",
    "    print(f'Number articles: {len(stories)}')\n",
    "\n",
    "    has_no_text=0\n",
    "    for story in stories:\n",
    "        if story['word_count'] is None:\n",
    "            has_no_text+=1\n",
    "\n",
    "    url_list=list()\n",
    "    for story in stories:\n",
    "        url_list.append(story['url'])\n",
    "    \n",
    "    url2text = dict.fromkeys(url_list)\n",
    "    for url in tqdm(url_list):\n",
    "        try:\n",
    "            text = url_to_text(url)\n",
    "            url2text[url] = text\n",
    "        except :\n",
    "            url2text[url] = 'Error'\n",
    "\n",
    "    telegraph=[x for x in list(url2text.values()) if x!='Error']\n",
    "\n",
    "    toreturn = teldic(telegraph)\n",
    "\n",
    "    return toreturn"
   ]
  },
  {
   "cell_type": "markdown",
   "metadata": {},
   "source": [
    "We store text in dictionaries:"
   ]
  },
  {
   "cell_type": "code",
   "execution_count": 16,
   "metadata": {},
   "outputs": [
    {
     "name": "stdout",
     "output_type": "stream",
     "text": [
      "Number articles: 129\n"
     ]
    },
    {
     "name": "stderr",
     "output_type": "stream",
     "text": [
      "100%|█████████████████████████████████████████| 129/129 [02:43<00:00,  1.26s/it]\n"
     ]
    }
   ],
   "source": [
    "#TP1\n",
    "begin_TP1 = datetime.date(2020,4,9)\n",
    "end_TP1=datetime.date(2020,4,15)\n",
    "tetp1_dic = searchtel(begin_TP1, end_TP1, query)"
   ]
  },
  {
   "cell_type": "code",
   "execution_count": 17,
   "metadata": {},
   "outputs": [
    {
     "name": "stdout",
     "output_type": "stream",
     "text": [
      "Number articles: 63\n"
     ]
    },
    {
     "name": "stderr",
     "output_type": "stream",
     "text": [
      "100%|███████████████████████████████████████████| 63/63 [01:18<00:00,  1.25s/it]\n"
     ]
    }
   ],
   "source": [
    "#TP2\n",
    "begin_TP2 = datetime.date(2020,8,25)\n",
    "end_TP2=datetime.date(2020,8,31)\n",
    "tetp2_dic = searchtel(begin_TP2, end_TP2, query)"
   ]
  },
  {
   "cell_type": "code",
   "execution_count": 18,
   "metadata": {},
   "outputs": [
    {
     "name": "stdout",
     "output_type": "stream",
     "text": [
      "Number articles: 106\n"
     ]
    },
    {
     "name": "stderr",
     "output_type": "stream",
     "text": [
      "100%|█████████████████████████████████████████| 106/106 [02:08<00:00,  1.21s/it]\n"
     ]
    }
   ],
   "source": [
    "#TP3\n",
    "begin_TP3=datetime.date(2021,1,21)\n",
    "end_TP3=datetime.date(2021,1,27)\n",
    "tetp3_dic = searchtel(begin_TP3, end_TP3, query)"
   ]
  },
  {
   "cell_type": "markdown",
   "metadata": {
    "pycharm": {
     "name": "#%% md\n"
    }
   },
   "source": [
    "<h3>Get data from Twitter</h3>\n",
    "Since the standard Twitter API only allows to retrieve of tweets from the past week, we may recur to scraping in order to collect tweets that were published earlier than this. The downside of this method is that it is a bit slower and that it does not allow us to retrieve any retweet information.\n",
    "Using minet, we can scrape tweets from the public API using an advanced search query."
   ]
  },
  {
   "cell_type": "markdown",
   "metadata": {},
   "source": [
    " Twitter API (en cas ou)\n",
    "  API KEY gG7WbcCh0p3HtpqpxKevtqBKg\n",
    "                API KEY SECRET mG0H6QLLu6iZ67WvBSMcXjjipFInJNo9bccQuQjFwK9fxzt7JF\n",
    "                token 614583941-E3cku2CxtBB00XhzKNHhyx8ShBHjYG93DAAVg7AL\n",
    "                token secret BeYVe9lslMHZ2yvdF9FKPDJv4d0hCiRZ18ufG9JDMRly1"
   ]
  },
  {
   "cell_type": "markdown",
   "metadata": {},
   "source": [
    "<h4>Scraping from Twitter</h4>"
   ]
  },
  {
   "cell_type": "code",
   "execution_count": 19,
   "metadata": {},
   "outputs": [
    {
     "name": "stdout",
     "output_type": "stream",
     "text": [
      "Requirement already satisfied: minet in /Users/sina/opt/anaconda3/lib/python3.9/site-packages (0.58.1)\n",
      "Requirement already satisfied: tqdm>=4.60.0 in /Users/sina/opt/anaconda3/lib/python3.9/site-packages (from minet) (4.62.3)\n",
      "Requirement already satisfied: ural<0.33,>=0.32.0 in /Users/sina/opt/anaconda3/lib/python3.9/site-packages (from minet) (0.32.1)\n",
      "Requirement already satisfied: keyring<19.3 in /Users/sina/opt/anaconda3/lib/python3.9/site-packages (from minet) (19.2.0)\n",
      "Requirement already satisfied: termcolor>=1.0.0 in /Users/sina/opt/anaconda3/lib/python3.9/site-packages (from minet) (1.1.0)\n",
      "Requirement already satisfied: tenacity>=7.0.0 in /Users/sina/opt/anaconda3/lib/python3.9/site-packages (from minet) (8.0.1)\n",
      "Requirement already satisfied: pyyaml in /Users/sina/opt/anaconda3/lib/python3.9/site-packages (from minet) (6.0)\n",
      "Requirement already satisfied: trafilatura<0.10,>=0.9.1 in /Users/sina/opt/anaconda3/lib/python3.9/site-packages (from minet) (0.9.3)\n",
      "Requirement already satisfied: urllib3[secure]<2,>=1.25.3 in /Users/sina/opt/anaconda3/lib/python3.9/site-packages (from minet) (1.26.7)\n",
      "Requirement already satisfied: cchardet>=2.1.7 in /Users/sina/opt/anaconda3/lib/python3.9/site-packages (from minet) (2.1.7)\n",
      "Requirement already satisfied: soupsieve>=2.1 in /Users/sina/opt/anaconda3/lib/python3.9/site-packages (from minet) (2.2.1)\n",
      "Requirement already satisfied: beautifulsoup4>=4.7.1 in /Users/sina/opt/anaconda3/lib/python3.9/site-packages (from minet) (4.10.0)\n",
      "Requirement already satisfied: json5>=0.8.5 in /Users/sina/opt/anaconda3/lib/python3.9/site-packages (from minet) (0.9.6)\n",
      "Requirement already satisfied: persist-queue>=0.7.0 in /Users/sina/opt/anaconda3/lib/python3.9/site-packages (from minet) (0.7.0)\n",
      "Requirement already satisfied: ndjson>=0.3.1 in /Users/sina/opt/anaconda3/lib/python3.9/site-packages (from minet) (0.3.1)\n",
      "Requirement already satisfied: casanova<0.18,>=0.17.1 in /Users/sina/opt/anaconda3/lib/python3.9/site-packages (from minet) (0.17.1)\n",
      "Requirement already satisfied: browser-cookie3==0.13.0 in /Users/sina/opt/anaconda3/lib/python3.9/site-packages (from minet) (0.13.0)\n",
      "Requirement already satisfied: colorama>=0.4.0 in /Users/sina/opt/anaconda3/lib/python3.9/site-packages (from minet) (0.4.4)\n",
      "Requirement already satisfied: ebbe<2,>=1.3.1 in /Users/sina/opt/anaconda3/lib/python3.9/site-packages (from minet) (1.6.0)\n",
      "Requirement already satisfied: twitwi<0.11,>=0.10.0 in /Users/sina/opt/anaconda3/lib/python3.9/site-packages (from minet) (0.10.0)\n",
      "Requirement already satisfied: lxml>=4.3.0 in /Users/sina/opt/anaconda3/lib/python3.9/site-packages (from minet) (4.8.0)\n",
      "Requirement already satisfied: dateparser>=1.0.0 in /Users/sina/opt/anaconda3/lib/python3.9/site-packages (from minet) (1.1.0)\n",
      "Requirement already satisfied: quenouille<2,>=1.4.2 in /Users/sina/opt/anaconda3/lib/python3.9/site-packages (from minet) (1.4.2)\n",
      "Requirement already satisfied: lz4 in /Users/sina/opt/anaconda3/lib/python3.9/site-packages (from browser-cookie3==0.13.0->minet) (4.0.0)\n",
      "Requirement already satisfied: pycryptodome in /Users/sina/opt/anaconda3/lib/python3.9/site-packages (from browser-cookie3==0.13.0->minet) (3.14.1)\n",
      "Requirement already satisfied: pbkdf2 in /Users/sina/opt/anaconda3/lib/python3.9/site-packages (from browser-cookie3==0.13.0->minet) (1.3)\n",
      "Requirement already satisfied: pyaes in /Users/sina/opt/anaconda3/lib/python3.9/site-packages (from browser-cookie3==0.13.0->minet) (1.6.1)\n",
      "Requirement already satisfied: SecretStorage in /Users/sina/opt/anaconda3/lib/python3.9/site-packages (from browser-cookie3==0.13.0->minet) (3.3.1)\n",
      "Requirement already satisfied: file-read-backwards<3,>=2.0.0 in /Users/sina/opt/anaconda3/lib/python3.9/site-packages (from casanova<0.18,>=0.17.1->minet) (2.0.0)\n",
      "Requirement already satisfied: regex!=2019.02.19,!=2021.8.27 in /Users/sina/opt/anaconda3/lib/python3.9/site-packages (from dateparser>=1.0.0->minet) (2021.8.3)\n",
      "Requirement already satisfied: python-dateutil in /Users/sina/opt/anaconda3/lib/python3.9/site-packages (from dateparser>=1.0.0->minet) (2.8.2)\n",
      "Requirement already satisfied: tzlocal in /Users/sina/opt/anaconda3/lib/python3.9/site-packages (from dateparser>=1.0.0->minet) (4.1)\n",
      "Requirement already satisfied: pytz in /Users/sina/opt/anaconda3/lib/python3.9/site-packages (from dateparser>=1.0.0->minet) (2021.3)\n",
      "Requirement already satisfied: entrypoints in /Users/sina/opt/anaconda3/lib/python3.9/site-packages (from keyring<19.3->minet) (0.3)\n",
      "Requirement already satisfied: htmldate>=0.9.1 in /Users/sina/opt/anaconda3/lib/python3.9/site-packages (from trafilatura<0.10,>=0.9.1->minet) (1.1.1)\n",
      "Requirement already satisfied: justext>=3.0.0 in /Users/sina/opt/anaconda3/lib/python3.9/site-packages (from trafilatura<0.10,>=0.9.1->minet) (3.0.0)\n",
      "Requirement already satisfied: certifi in /Users/sina/opt/anaconda3/lib/python3.9/site-packages (from trafilatura<0.10,>=0.9.1->minet) (2021.10.8)\n",
      "Requirement already satisfied: readability-lxml>=0.8.1 in /Users/sina/opt/anaconda3/lib/python3.9/site-packages (from trafilatura<0.10,>=0.9.1->minet) (0.8.1)\n",
      "Requirement already satisfied: charset-normalizer>=2.0.7 in /Users/sina/opt/anaconda3/lib/python3.9/site-packages (from trafilatura<0.10,>=0.9.1->minet) (2.0.12)\n",
      "Requirement already satisfied: courlan>=0.4.2 in /Users/sina/opt/anaconda3/lib/python3.9/site-packages (from trafilatura<0.10,>=0.9.1->minet) (0.6.0)\n",
      "Requirement already satisfied: tld>=0.12 in /Users/sina/opt/anaconda3/lib/python3.9/site-packages (from courlan>=0.4.2->trafilatura<0.10,>=0.9.1->minet) (0.12.6)\n",
      "Requirement already satisfied: langcodes>=3.2.1 in /Users/sina/opt/anaconda3/lib/python3.9/site-packages (from courlan>=0.4.2->trafilatura<0.10,>=0.9.1->minet) (3.3.0)\n",
      "Requirement already satisfied: six>=1.5 in /Users/sina/opt/anaconda3/lib/python3.9/site-packages (from python-dateutil->dateparser>=1.0.0->minet) (1.16.0)\n",
      "Requirement already satisfied: chardet in /Users/sina/opt/anaconda3/lib/python3.9/site-packages (from readability-lxml>=0.8.1->trafilatura<0.10,>=0.9.1->minet) (4.0.0)\n",
      "Requirement already satisfied: cssselect in /Users/sina/opt/anaconda3/lib/python3.9/site-packages (from readability-lxml>=0.8.1->trafilatura<0.10,>=0.9.1->minet) (1.1.0)\n",
      "Requirement already satisfied: twitter==2.0a0 in /Users/sina/opt/anaconda3/lib/python3.9/site-packages (from twitwi<0.11,>=0.10.0->minet) (2.0a0)\n",
      "Requirement already satisfied: pycountry<19,>=18.12.8 in /Users/sina/opt/anaconda3/lib/python3.9/site-packages (from ural<0.33,>=0.32.0->minet) (18.12.8)\n",
      "Requirement already satisfied: phylactery<0.3,>=0.2.3 in /Users/sina/opt/anaconda3/lib/python3.9/site-packages (from ural<0.33,>=0.32.0->minet) (0.2.3)\n",
      "Requirement already satisfied: pyOpenSSL>=0.14 in /Users/sina/opt/anaconda3/lib/python3.9/site-packages (from urllib3[secure]<2,>=1.25.3->minet) (21.0.0)\n",
      "Requirement already satisfied: cryptography>=1.3.4 in /Users/sina/opt/anaconda3/lib/python3.9/site-packages (from urllib3[secure]<2,>=1.25.3->minet) (3.4.8)\n",
      "Requirement already satisfied: idna>=2.0.0 in /Users/sina/opt/anaconda3/lib/python3.9/site-packages (from urllib3[secure]<2,>=1.25.3->minet) (3.2)\n",
      "Requirement already satisfied: cffi>=1.12 in /Users/sina/opt/anaconda3/lib/python3.9/site-packages (from cryptography>=1.3.4->urllib3[secure]<2,>=1.25.3->minet) (1.14.6)\n",
      "Requirement already satisfied: pycparser in /Users/sina/opt/anaconda3/lib/python3.9/site-packages (from cffi>=1.12->cryptography>=1.3.4->urllib3[secure]<2,>=1.25.3->minet) (2.20)\n",
      "Requirement already satisfied: jeepney>=0.6 in /Users/sina/opt/anaconda3/lib/python3.9/site-packages (from SecretStorage->browser-cookie3==0.13.0->minet) (0.7.1)\n",
      "Requirement already satisfied: pytz-deprecation-shim in /Users/sina/opt/anaconda3/lib/python3.9/site-packages (from tzlocal->dateparser>=1.0.0->minet) (0.1.0.post0)\n",
      "Requirement already satisfied: tzdata in /Users/sina/opt/anaconda3/lib/python3.9/site-packages (from pytz-deprecation-shim->tzlocal->dateparser>=1.0.0->minet) (2021.5)\n"
     ]
    }
   ],
   "source": [
    "!pip install minet"
   ]
  },
  {
   "cell_type": "code",
   "execution_count": 20,
   "metadata": {},
   "outputs": [
    {
     "name": "stdout",
     "output_type": "stream",
     "text": [
      "usage: minet twitter scrape [-h] [--rcfile RCFILE] [--include-refs] [-l LIMIT]\r\n",
      "                            [-o OUTPUT] [--query-template QUERY_TEMPLATE]\r\n",
      "                            [-s SELECT]\r\n",
      "                            {tweets,users} query [file]\r\n",
      "minet twitter scrape: error: the following arguments are required: items, query, file\r\n"
     ]
    }
   ],
   "source": [
    "!minet tw scrape"
   ]
  },
  {
   "cell_type": "code",
   "execution_count": 21,
   "metadata": {},
   "outputs": [],
   "source": [
    "#generic dictionary making function for tweets\n",
    "def tweetdic(df):\n",
    "    indl = df.index\n",
    "    textl = df['text'].tolist()\n",
    "    dic_to_return = {}\n",
    "    for i in range(len(indl)):\n",
    "        dic_to_return[indl[i]]=textl[i]\n",
    "    return dic_to_return"
   ]
  },
  {
   "cell_type": "markdown",
   "metadata": {},
   "source": [
    "The snippets of code below download Twitter data into csvs, and extracts data from there into dictionaries."
   ]
  },
  {
   "cell_type": "markdown",
   "metadata": {},
   "source": [
    "Time Period 1 (TP1)"
   ]
  },
  {
   "cell_type": "code",
   "execution_count": 22,
   "metadata": {
    "scrolled": true
   },
   "outputs": [
    {
     "name": "stdout",
     "output_type": "stream",
     "text": [
      "Searching for \"((UK OR England) AND (quarantine OR lockdown OR covid19 OR coronavirus OR corona OR pandemic)) lang:en until:2020-04-15 since:2020-04-09\"\n",
      "Collecting tweet: 100%|█| 1000/1000 [00:45<00:00, 22.16tweet/s, queries=1, token\n"
     ]
    }
   ],
   "source": [
    "# Search Query to filter for tweets between in the given Time Periods (TP) --> The search query is identical for all three time periods\n",
    "# The search has been limited to 1000 tweets per time period due to computer processing restrictions\n",
    "!minet tw scrape tweets \"((UK OR England) AND (quarantine OR lockdown OR covid19 OR coronavirus OR corona OR pandemic)) lang:en until:2020-04-15 since:2020-04-09\" --limit 1000 > tweets_TP1.csv"
   ]
  },
  {
   "cell_type": "code",
   "execution_count": 23,
   "metadata": {},
   "outputs": [],
   "source": [
    "df_TP1_Twitter = pd.read_csv(\"./tweets_TP1.csv\")\n",
    "# df_TP1_Twitter to see the df"
   ]
  },
  {
   "cell_type": "code",
   "execution_count": 24,
   "metadata": {
    "scrolled": true
   },
   "outputs": [],
   "source": [
    "# clean data and extract overview\n",
    "df_TP1_Twitter = df_TP1_Twitter[df_TP1_Twitter['text'].notna()]"
   ]
  },
  {
   "cell_type": "code",
   "execution_count": 25,
   "metadata": {},
   "outputs": [],
   "source": [
    "#putting relevant information into dictionary: index is key, text is value\n",
    "\n",
    "twtp1_dic = tweetdic(df_TP1_Twitter)"
   ]
  },
  {
   "cell_type": "markdown",
   "metadata": {},
   "source": [
    "Time Period 2 (TP2)"
   ]
  },
  {
   "cell_type": "code",
   "execution_count": 26,
   "metadata": {},
   "outputs": [
    {
     "name": "stdout",
     "output_type": "stream",
     "text": [
      "Searching for \"((UK OR England) AND (quarantine OR lockdown OR covid19 OR coronavirus OR corona OR pandemic)) lang:en until:2020-08-31 since:2020-08-25\"\n",
      "Collecting tweet: 100%|█| 1000/1000 [00:43<00:00, 23.24tweet/s, queries=1, token\n"
     ]
    }
   ],
   "source": [
    "!minet tw scrape tweets \"((UK OR England) AND (quarantine OR lockdown OR covid19 OR coronavirus OR corona OR pandemic)) lang:en until:2020-08-31 since:2020-08-25\" --limit 1000 > tweets_TP2.csv"
   ]
  },
  {
   "cell_type": "code",
   "execution_count": 27,
   "metadata": {},
   "outputs": [],
   "source": [
    "df_TP2_Twitter = pd.read_csv(\"./tweets_TP2.csv\")"
   ]
  },
  {
   "cell_type": "code",
   "execution_count": 28,
   "metadata": {},
   "outputs": [],
   "source": [
    "# clean data and extract overview\n",
    "df_TP2_Twitter = df_TP2_Twitter[df_TP2_Twitter['text'].notna()]"
   ]
  },
  {
   "cell_type": "code",
   "execution_count": 29,
   "metadata": {},
   "outputs": [],
   "source": [
    "# creating dictionary from CSV - dictionary will include index and text per tweet\n",
    "twtp2_dic = tweetdic(df_TP2_Twitter)"
   ]
  },
  {
   "cell_type": "markdown",
   "metadata": {},
   "source": [
    "Time Period 3 (TP3)"
   ]
  },
  {
   "cell_type": "code",
   "execution_count": 30,
   "metadata": {},
   "outputs": [
    {
     "name": "stdout",
     "output_type": "stream",
     "text": [
      "Searching for \"((UK OR England) AND (quarantine OR lockdown OR covid19 OR coronavirus OR corona OR pandemic)) lang:en until:2021-01-27 since:2021-01-21\"\n",
      "Collecting tweet: 100%|█| 1000/1000 [00:45<00:00, 22.20tweet/s, queries=1, token\n"
     ]
    }
   ],
   "source": [
    "!minet tw scrape tweets \"((UK OR England) AND (quarantine OR lockdown OR covid19 OR coronavirus OR corona OR pandemic)) lang:en until:2021-01-27 since:2021-01-21\" --limit 1000 > tweets_TP3.csv"
   ]
  },
  {
   "cell_type": "code",
   "execution_count": 31,
   "metadata": {},
   "outputs": [],
   "source": [
    "df_TP3_Twitter = pd.read_csv(\"./tweets_TP3.csv\")"
   ]
  },
  {
   "cell_type": "code",
   "execution_count": 32,
   "metadata": {},
   "outputs": [],
   "source": [
    "# clean data and extract overview\n",
    "df_TP3_Twitter = df_TP3_Twitter[df_TP3_Twitter['text'].notna()]"
   ]
  },
  {
   "cell_type": "code",
   "execution_count": 33,
   "metadata": {},
   "outputs": [],
   "source": [
    "twtp3_dic = tweetdic(df_TP3_Twitter)"
   ]
  },
  {
   "cell_type": "markdown",
   "metadata": {},
   "source": [
    "<h1>This is the section in which we extract adjectives and check for similarity</h1>"
   ]
  },
  {
   "cell_type": "code",
   "execution_count": 34,
   "metadata": {},
   "outputs": [],
   "source": [
    "#!pip install gensim\n",
    "#!pip install pandas\n",
    "\n",
    "import gensim\n",
    "import numpy as np\n",
    "import gensim.downloader as api\n",
    "import matplotlib.pyplot as plt\n",
    "from numpy.linalg import norm\n",
    "from collections import Counter\n",
    "import pandas as pd\n",
    "\n",
    "nlp = spacy.load(\"en_core_web_sm\")"
   ]
  },
  {
   "cell_type": "code",
   "execution_count": 35,
   "metadata": {},
   "outputs": [],
   "source": [
    "from statistics import mean"
   ]
  },
  {
   "cell_type": "markdown",
   "metadata": {},
   "source": [
    "Choose pre-trained model and load it:"
   ]
  },
  {
   "cell_type": "code",
   "execution_count": 36,
   "metadata": {},
   "outputs": [],
   "source": [
    "model = api.load(\"word2vec-google-news-300\")"
   ]
  },
  {
   "cell_type": "markdown",
   "metadata": {},
   "source": [
    "Define an original list of words that signify urgency:"
   ]
  },
  {
   "cell_type": "code",
   "execution_count": 37,
   "metadata": {},
   "outputs": [],
   "source": [
    "uwords = ['critical','troubling','problematic','essential','troublesome','pivotal','serious','worrisome','extreme', 'major','significant','dangerous', 'vital', 'crucial', 'important', 'critical', 'urgent', 'risky', 'severe', 'worrying', 'stringent', 'unprecedented']"
   ]
  },
  {
   "cell_type": "markdown",
   "metadata": {},
   "source": [
    "We can use most_similar to find other words we may want to include in the original list:"
   ]
  },
  {
   "cell_type": "code",
   "execution_count": 38,
   "metadata": {},
   "outputs": [
    {
     "data": {
      "text/plain": [
       "[('vitally_important', 0.6015803813934326),\n",
       " ('difficult', 0.584695041179657),\n",
       " ('key', 0.5815590023994446),\n",
       " ('problematical', 0.5756705403327942),\n",
       " ('perilous', 0.5537168979644775),\n",
       " ('distressing', 0.5491712093353271),\n",
       " ('alarming', 0.5393416881561279),\n",
       " ('criticial', 0.5372741222381592),\n",
       " ('imperative', 0.5331820845603943),\n",
       " ('paramount_importance', 0.5308540463447571)]"
      ]
     },
     "execution_count": 38,
     "metadata": {},
     "output_type": "execute_result"
    }
   ],
   "source": [
    "model.most_similar(uwords)"
   ]
  },
  {
   "cell_type": "markdown",
   "metadata": {},
   "source": [
    "We now create an average vector of the vectors of the words in our original list. The length of this vector is the number of dimensions, it changes depending on which model we use:"
   ]
  },
  {
   "cell_type": "code",
   "execution_count": 39,
   "metadata": {},
   "outputs": [
    {
     "name": "stdout",
     "output_type": "stream",
     "text": [
      "[ 0.04076143 -0.00715915  0.00234569  0.01536976 -0.12590651  0.02655307\n",
      "  0.13603903 -0.0169546   0.10722455  0.03749223 -0.01869202 -0.19133967\n",
      "  0.08565313  0.08389976 -0.1246005   0.05567932  0.02083657 -0.03671542\n",
      " -0.11597789  0.06311729  0.00596619 -0.05841897 -0.18485884  0.11116583\n",
      "  0.02227783  0.01205028 -0.01814686 -0.04411732  0.07609281  0.02089899\n",
      "  0.10677476  0.03342091  0.17465487 -0.05876576 -0.01433875 -0.12278886\n",
      " -0.04521041  0.04359921  0.09679066 -0.03764343  0.13405539 -0.06935258\n",
      "  0.09196889  0.00281178 -0.10443115 -0.00779585  0.00076849  0.03462011\n",
      " -0.0407538  -0.08149303  0.02818662  0.06545743 -0.11571364 -0.02323775\n",
      " -0.04301002  0.07522999  0.05697701 -0.11362665  0.08640636 -0.05238984\n",
      " -0.15350653  0.16264413 -0.13078724 -0.09883256  0.09253207  0.02524636\n",
      " -0.0112915   0.13699064 -0.13093151 -0.10864951 -0.06927698 -0.07520641\n",
      "  0.08291037 -0.0200667  -0.12928079 -0.03333421  0.07068114  0.21843928\n",
      "  0.02304354  0.2565585  -0.03482888  0.0505593   0.01425882 -0.06295221\n",
      " -0.02455278 -0.1523271  -0.15532893  0.01670837 -0.1029136   0.07675448\n",
      "  0.07550326 -0.15540314  0.0289487  -0.12128241 -0.03016801 -0.09939852\n",
      "  0.1403864  -0.02807062  0.00815929  0.02791283  0.00706343  0.11403587\n",
      " -0.03121116 -0.1755704  -0.07303966 -0.06710191  0.09823608 -0.07543807\n",
      "  0.10076818 -0.06438654 -0.00117077 -0.05029852 -0.16116194  0.00317938\n",
      "  0.10802113 -0.04074825  0.22059216  0.07118364  0.1220763   0.07098527\n",
      " -0.1229692   0.04222246 -0.08849959  0.00403387 -0.1981534  -0.12766266\n",
      "  0.02691373  0.04837864 -0.07739674  0.14512496  0.04201577 -0.02132069\n",
      " -0.07849121  0.08300721  0.05978671 -0.12743586  0.07466264  0.0157984\n",
      " -0.09702925  0.15916581  0.0732838   0.00623668  0.16830167  0.11365855\n",
      " -0.05136386 -0.13867188 -0.04134447  0.1491394  -0.10797536 -0.16587137\n",
      "  0.10276378 -0.02319076 -0.02210305  0.09641058 -0.07866322 -0.06340443\n",
      " -0.10289001 -0.10907121 -0.07903359 -0.11848033 -0.03675426  0.06541859\n",
      "  0.11283181 -0.14095515  0.07753823 -0.07097331 -0.08221019 -0.1558394\n",
      "  0.10205495 -0.05000167  0.06810275 -0.02063335 -0.06755922 -0.05895164\n",
      "  0.13908802 -0.03049538  0.01689217 -0.04554749 -0.11416349 -0.03165089\n",
      " -0.0966131  -0.05748957 -0.1059546  -0.08780809  0.01119718  0.14902705\n",
      " -0.13135599  0.08826169 -0.05296066  0.09420499  0.02192827  0.03235279\n",
      "  0.10900879 -0.07830603 -0.13624157 -0.07730935 -0.04889263 -0.15165295\n",
      " -0.02711903 -0.08497758  0.0694835   0.16423105 -0.0032848  -0.10984664\n",
      "  0.13414973  0.0044195  -0.06774764 -0.08646185  0.00152033 -0.16279325\n",
      " -0.14807492  0.01103349 -0.08007812  0.12841797 -0.02886963 -0.10930009\n",
      "  0.1559365  -0.02221264  0.02041349  0.14455484  0.02820032  0.11087313\n",
      " -0.03933993 -0.06563222  0.11666454 -0.1057656   0.1033731  -0.03855757\n",
      " -0.00559027 -0.01989746 -0.14127177  0.15892167  0.10151256 -0.00901933\n",
      "  0.04555442 -0.0275546  -0.05748124 -0.14624023  0.00477323 -0.01702604\n",
      " -0.01998832  0.0343406   0.04966667 -0.08289823  0.0085633  -0.03786399\n",
      " -0.00633378  0.00776534  0.07206518 -0.1228414   0.02921226  0.06197288\n",
      "  0.00352339  0.05345292  0.04493852 -0.14262806  0.0969957   0.01709817\n",
      " -0.08042214 -0.07459328 -0.05791682 -0.04696586  0.00056804  0.11979259\n",
      "  0.05738137  0.07187366 -0.08135431 -0.10152089 -0.11111034 -0.02837492\n",
      "  0.02135814  0.1991383   0.00237205  0.04024436 -0.02842851 -0.18398215\n",
      "  0.04938576 -0.08459611 -0.06658479  0.07341142 -0.05754505  0.01392989\n",
      " -0.01407561  0.02088512 -0.01490922  0.07408004 -0.08200628  0.0254312\n",
      "  0.01252608 -0.11443537 -0.02794855 -0.03220437  0.06170793  0.04798499\n",
      " -0.05513972  0.08408702 -0.11423267  0.03729803  0.08823464  0.10192316]\n"
     ]
    },
    {
     "data": {
      "text/plain": [
       "300"
      ]
     },
     "execution_count": 39,
     "metadata": {},
     "output_type": "execute_result"
    }
   ],
   "source": [
    "urgvectors = []\n",
    "for i in range(len(uwords)):\n",
    "    urgvectors.append(model.get_vector(uwords[i]))\n",
    "\n",
    "avgs = np.mean(urgvectors, axis=0)\n",
    "print(avgs)\n",
    "len(avgs)"
   ]
  },
  {
   "cell_type": "markdown",
   "metadata": {},
   "source": [
    "To check if the average vector makes any sense, we can find the words most similar to this vector, and see if we think they are good markers for urgency:"
   ]
  },
  {
   "cell_type": "code",
   "execution_count": 40,
   "metadata": {},
   "outputs": [
    {
     "data": {
      "text/plain": [
       "[('important', 0.7393354773521423),\n",
       " ('critical', 0.7357078790664673),\n",
       " ('crucial', 0.7196949124336243),\n",
       " ('problematic', 0.7039635181427002),\n",
       " ('worrisome', 0.686864972114563),\n",
       " ('troubling', 0.6845952272415161),\n",
       " ('vital', 0.6648507714271545),\n",
       " ('troublesome', 0.6420120000839233),\n",
       " ('dangerous', 0.6281272768974304),\n",
       " ('significant', 0.6221376061439514)]"
      ]
     },
     "execution_count": 40,
     "metadata": {},
     "output_type": "execute_result"
    }
   ],
   "source": [
    "model.similar_by_vector(avgs)"
   ]
  },
  {
   "cell_type": "markdown",
   "metadata": {},
   "source": [
    "We now define cosine similarity as a function to then compare word vectors from words in our sources to the average vector:"
   ]
  },
  {
   "cell_type": "code",
   "execution_count": 41,
   "metadata": {},
   "outputs": [],
   "source": [
    "def cosine_similarity(vector1,vector2):\n",
    "    result = np.dot(vector1, vector2)/(norm(vector1)*norm(vector2))\n",
    "    return result"
   ]
  },
  {
   "cell_type": "markdown",
   "metadata": {},
   "source": [
    "Now, we can see that this function allows us to find measures of similarity to our average \"urgency\" vector:"
   ]
  },
  {
   "cell_type": "code",
   "execution_count": 42,
   "metadata": {},
   "outputs": [
    {
     "name": "stdout",
     "output_type": "stream",
     "text": [
      "[0.47876012, 0.61980236, 0.5248614, 0.0923162, 0.11889311, 0.24206077, 0.10215004]\n"
     ]
    }
   ],
   "source": [
    "words = [\"challenging\",\"serious\",\"urgent\",\"fingers\", \"teeth\", \"happy\", \"mouse\"]\n",
    "projections = []\n",
    "for word in words:\n",
    "    wordvector = model.get_vector(word)\n",
    "    projections.append(cosine_similarity(wordvector,avgs))\n",
    "print(projections)"
   ]
  },
  {
   "cell_type": "markdown",
   "metadata": {},
   "source": [
    "Now we define a function to mark words as \"urgency signifiers\", depending on cosine similarity:"
   ]
  },
  {
   "cell_type": "code",
   "execution_count": 43,
   "metadata": {},
   "outputs": [],
   "source": [
    "def urgent_marker(word, threshold):\n",
    "    result = cosine_similarity(model.get_vector(word),avgs)\n",
    "    if result < threshold:\n",
    "        result = 0\n",
    "    else:\n",
    "        result = 1\n",
    "    return result"
   ]
  },
  {
   "cell_type": "markdown",
   "metadata": {},
   "source": [
    "We can check this with some examples:"
   ]
  },
  {
   "cell_type": "code",
   "execution_count": 44,
   "metadata": {},
   "outputs": [
    {
     "data": {
      "text/plain": [
       "0"
      ]
     },
     "execution_count": 44,
     "metadata": {},
     "output_type": "execute_result"
    }
   ],
   "source": [
    "urgent_marker(\"interesting\", 0.6)\n",
    "\n",
    "urgent_marker(\"decisive\", 0.6)"
   ]
  },
  {
   "cell_type": "markdown",
   "metadata": {},
   "source": [
    "This is the code that should work directly on the article"
   ]
  },
  {
   "cell_type": "code",
   "execution_count": 45,
   "metadata": {},
   "outputs": [],
   "source": [
    "def urgprop(dicc, threshold):\n",
    "    urgent_lst = []\n",
    "    count = 0\n",
    "    means_lst=[]\n",
    "    wl = []\n",
    "    wl2 = []\n",
    "    negcount = 0\n",
    "    countdic1 = {}\n",
    "    \n",
    "\n",
    "    for i in range(len(dicc.values())):  \n",
    "        doc = nlp(list(dicc.values())[i])\n",
    "        countdic1[list(dicc.values())[i]] = doc\n",
    "        count += 1\n",
    "        for token in doc:\n",
    "            if token.pos_ == \"ADJ\":\n",
    "                try:\n",
    "                    urgent_lst.append(urgent_marker(f\"{token.text.lower()}\", threshold))\n",
    "                    #print(f\"{token.text.lower()}\",urgent_marker(f\"{token.text.lower()}\", 0.5)) #this line is just for checking\n",
    "                except:\n",
    "                    continue\n",
    "        if len(urgent_lst)!= 0:\n",
    "            #print(\"Proportion of urgent adjectives in text\", count,\":\", round((sum(urgent_lst)/len(urgent_lst)*100),2),\"%\")\n",
    "            means_lst.append(round((sum(urgent_lst)/len(urgent_lst)*100),3))\n",
    "\n",
    "        else:\n",
    "            #print(\"Proportion of urgent adjectives in text\", count,\":\", \"NA\")\n",
    "            continue\n",
    "    print(mean(means_lst))\n",
    "    return means_lst"
   ]
  },
  {
   "cell_type": "markdown",
   "metadata": {},
   "source": [
    "This is a function that takes two lists of means and performs a two-sided t-test"
   ]
  },
  {
   "cell_type": "code",
   "execution_count": 46,
   "metadata": {},
   "outputs": [],
   "source": [
    "def stats(l1, l2):\n",
    "    from scipy import stats\n",
    "\n",
    "    t_value,p_value=stats.ttest_ind(l1,l2)\n",
    "\n",
    "    print('Test statistic is %f'%float(\"{:.6f}\".format(t_value)))\n",
    "\n",
    "    print('p-value for two tailed test is %f'%p_value)\n",
    "\n",
    "    alpha = 0.05\n",
    "\n",
    "    if p_value<=alpha:\n",
    "        #goodpvalue = p_value\n",
    "        print('Conclusion','n','Since p-value(=%f)'%p_value,'<','alpha(=%.2f)'%alpha,'''We reject the null hypothesis H0. So we conclude that the proportion of urgency signifying adjectives in the two time periods are not equal i.e., μ1 = μ2 at %.2f level of significance.'''%alpha)\n",
    "        #print(goodpvalue)\n",
    "     #   return goodpvalue\n",
    "    else:\n",
    "       # badpvalue  = p_value\n",
    "        print('Conclusion','n','Since p-value(=%f)'%p_value,'>','alpha(=%.2f)'%alpha,'We do not reject the null hypothesis H0.')\n",
    "      #  return badpvalue\n",
    "        "
   ]
  },
  {
   "cell_type": "markdown",
   "metadata": {},
   "source": [
    "<h3>Results</h3>"
   ]
  },
  {
   "cell_type": "markdown",
   "metadata": {},
   "source": [
    "Below we use the functions above to extract results"
   ]
  },
  {
   "cell_type": "code",
   "execution_count": 47,
   "metadata": {},
   "outputs": [
    {
     "name": "stdout",
     "output_type": "stream",
     "text": [
      "9.917391304347825\n",
      "8.6574375\n",
      "Test statistic is 3.829089\n",
      "p-value for two tailed test is 0.000481\n",
      "Conclusion n Since p-value(=0.000481) < alpha(=0.05) We reject the null hypothesis H0. So we conclude that the proportion of urgency signifying adjectives in the two time periods are not equal i.e., μ1 = μ2 at 0.05 level of significance.\n",
      "9.917391304347825\n",
      "9.71496551724138\n",
      "Test statistic is 0.761909\n",
      "p-value for two tailed test is 0.449693\n",
      "Conclusion n Since p-value(=0.449693) > alpha(=0.05) We do not reject the null hypothesis H0.\n",
      "8.6574375\n",
      "9.71496551724138\n",
      "Test statistic is -4.072718\n",
      "p-value for two tailed test is 0.000196\n",
      "Conclusion n Since p-value(=0.000196) < alpha(=0.05) We reject the null hypothesis H0. So we conclude that the proportion of urgency signifying adjectives in the two time periods are not equal i.e., μ1 = μ2 at 0.05 level of significance.\n",
      "9.917391304347825\n",
      "8.6574375\n",
      "9.71496551724138\n"
     ]
    }
   ],
   "source": [
    "#results guardian\n",
    "\n",
    "guardian_result_tp1xtp2 = stats(urgprop(gtp1_dic, 0.4), urgprop(gtp2_dic, 0.4))\n",
    "guardian_result_tp1xtp3 = stats(urgprop(gtp1_dic, 0.4), urgprop(gtp3_dic, 0.4))\n",
    "guardian_result_tp2xtp3 = stats(urgprop(gtp2_dic, 0.4), urgprop(gtp3_dic, 0.4))\n",
    "guardian_urgprop_tp1 = mean(urgprop(gtp1_dic, 0.4))\n",
    "guardian_urgprop_tp2 = mean(urgprop(gtp2_dic, 0.4))\n",
    "guardian_urgprop_tp3 = mean(urgprop(gtp3_dic, 0.4))"
   ]
  },
  {
   "cell_type": "code",
   "execution_count": 48,
   "metadata": {},
   "outputs": [
    {
     "name": "stdout",
     "output_type": "stream",
     "text": [
      "9.860532110091743\n",
      "10.362981481481482\n",
      "Test statistic is -2.440610\n",
      "p-value for two tailed test is 0.015747\n",
      "Conclusion n Since p-value(=0.015747) < alpha(=0.05) We reject the null hypothesis H0. So we conclude that the proportion of urgency signifying adjectives in the two time periods are not equal i.e., μ1 = μ2 at 0.05 level of significance.\n",
      "9.860532110091743\n",
      "7.605433333333333\n",
      "Test statistic is 14.942907\n",
      "p-value for two tailed test is 0.000000\n",
      "Conclusion n Since p-value(=0.000000) < alpha(=0.05) We reject the null hypothesis H0. So we conclude that the proportion of urgency signifying adjectives in the two time periods are not equal i.e., μ1 = μ2 at 0.05 level of significance.\n",
      "10.362981481481482\n",
      "7.605433333333333\n",
      "Test statistic is 10.581550\n",
      "p-value for two tailed test is 0.000000\n",
      "Conclusion n Since p-value(=0.000000) < alpha(=0.05) We reject the null hypothesis H0. So we conclude that the proportion of urgency signifying adjectives in the two time periods are not equal i.e., μ1 = μ2 at 0.05 level of significance.\n",
      "9.860532110091743\n",
      "10.362981481481482\n",
      "7.605433333333333\n"
     ]
    }
   ],
   "source": [
    "#result telegraph\n",
    "telegraph_result_tp1xtp2 = stats(urgprop(tetp1_dic, 0.4), urgprop(tetp2_dic, 0.4))\n",
    "telegraph_result_tp1xtp3 = stats(urgprop(tetp1_dic, 0.4), urgprop(tetp3_dic, 0.4))\n",
    "telegraph_result_tp2xtp2 = stats(urgprop(tetp2_dic, 0.4), urgprop(tetp3_dic, 0.4))\n",
    "telegraph_urgprop_tp1 = mean(urgprop(tetp1_dic, 0.4))\n",
    "telegraph_urgprop_tp2 = mean(urgprop(tetp2_dic, 0.4))\n",
    "telegraph_urgprop_tp3 = mean(urgprop(tetp3_dic, 0.4))"
   ]
  },
  {
   "cell_type": "code",
   "execution_count": 49,
   "metadata": {},
   "outputs": [
    {
     "name": "stdout",
     "output_type": "stream",
     "text": [
      "12.65795238095238\n",
      "10.580363636363636\n",
      "Test statistic is 1.872304\n",
      "p-value for two tailed test is 0.070941\n",
      "Conclusion n Since p-value(=0.070941) > alpha(=0.05) We do not reject the null hypothesis H0.\n",
      "12.65795238095238\n",
      "13.72956\n",
      "Test statistic is -1.274656\n",
      "p-value for two tailed test is 0.209122\n",
      "Conclusion n Since p-value(=0.209122) > alpha(=0.05) We do not reject the null hypothesis H0.\n",
      "10.580363636363636\n",
      "13.72956\n",
      "Test statistic is -3.178900\n",
      "p-value for two tailed test is 0.003145\n",
      "Conclusion n Since p-value(=0.003145) < alpha(=0.05) We reject the null hypothesis H0. So we conclude that the proportion of urgency signifying adjectives in the two time periods are not equal i.e., μ1 = μ2 at 0.05 level of significance.\n",
      "12.65795238095238\n",
      "10.580363636363636\n",
      "13.72956\n"
     ]
    }
   ],
   "source": [
    "#result official communication\n",
    "of_result_tp1xtp2 = stats(urgprop(of1_dic, 0.4), urgprop(of2_dic, 0.4)) \n",
    "of_result_tp1xtp3 = stats(urgprop(of1_dic, 0.4), urgprop(of3_dic, 0.4)) \n",
    "of_result_tp2xtp3 = stats(urgprop(of2_dic, 0.4), urgprop(of3_dic, 0.4)) \n",
    "official_urgprop_tp1 = mean(urgprop(of1_dic, 0.4))\n",
    "official_urgprop_tp2 = mean(urgprop(of2_dic, 0.4))\n",
    "official_urgprop_tp3 = mean(urgprop(of3_dic, 0.4))"
   ]
  },
  {
   "cell_type": "code",
   "execution_count": 50,
   "metadata": {},
   "outputs": [
    {
     "name": "stdout",
     "output_type": "stream",
     "text": [
      "7.592895\n",
      "7.687694\n",
      "Test statistic is -1.378352\n",
      "p-value for two tailed test is 0.168249\n",
      "Conclusion n Since p-value(=0.168249) > alpha(=0.05) We do not reject the null hypothesis H0.\n",
      "7.592895\n",
      "9.06406\n",
      "Test statistic is -26.145039\n",
      "p-value for two tailed test is 0.000000\n",
      "Conclusion n Since p-value(=0.000000) < alpha(=0.05) We reject the null hypothesis H0. So we conclude that the proportion of urgency signifying adjectives in the two time periods are not equal i.e., μ1 = μ2 at 0.05 level of significance.\n",
      "7.687694\n",
      "9.06406\n",
      "Test statistic is -23.391379\n",
      "p-value for two tailed test is 0.000000\n",
      "Conclusion n Since p-value(=0.000000) < alpha(=0.05) We reject the null hypothesis H0. So we conclude that the proportion of urgency signifying adjectives in the two time periods are not equal i.e., μ1 = μ2 at 0.05 level of significance.\n",
      "7.592895\n",
      "7.687694\n",
      "9.06406\n"
     ]
    }
   ],
   "source": [
    "#result twitter\n",
    "tw_result_tp1xtp2 = stats(urgprop(twtp1_dic, 0.4), urgprop(twtp2_dic, 0.4)) \n",
    "tw_result_tp1xtp3 = stats(urgprop(twtp1_dic, 0.4), urgprop(twtp3_dic, 0.4)) \n",
    "tw_result_tp2xtp3 = stats(urgprop(twtp2_dic, 0.4), urgprop(twtp3_dic, 0.4)) \n",
    "twitter_urgprop_tp1 = mean(urgprop(twtp1_dic, 0.4))\n",
    "twitter_urgprop_tp2 = mean(urgprop(twtp2_dic, 0.4))\n",
    "twitter_urgprop_tp3 = mean(urgprop(twtp3_dic, 0.4))"
   ]
  },
  {
   "cell_type": "markdown",
   "metadata": {},
   "source": [
    "<h4>Plotting results</h4>"
   ]
  },
  {
   "cell_type": "markdown",
   "metadata": {},
   "source": [
    "We put everything into a data frame"
   ]
  },
  {
   "cell_type": "code",
   "execution_count": 51,
   "metadata": {},
   "outputs": [],
   "source": [
    "d = {'Government': [official_urgprop_tp1, official_urgprop_tp2, official_urgprop_tp3], 'Twitter': [twitter_urgprop_tp1, \n",
    "                                                                                                   twitter_urgprop_tp2, twitter_urgprop_tp3],\n",
    "     'The Guardian': [guardian_urgprop_tp1, guardian_urgprop_tp2, guardian_urgprop_tp3], 'The Telegraph': [\n",
    "         telegraph_urgprop_tp1, telegraph_urgprop_tp2, telegraph_urgprop_tp3], 'Time': ['TP1', 'TP2', 'TP3']}\n",
    "     \n",
    "results_df = pd.DataFrame(d, index=['TP1', 'TP2', 'TP3'])"
   ]
  },
  {
   "cell_type": "markdown",
   "metadata": {},
   "source": [
    "Plot:"
   ]
  },
  {
   "cell_type": "code",
   "execution_count": 52,
   "metadata": {},
   "outputs": [
    {
     "data": {
      "image/png": "[encoded data removed]",
      "text/plain": [
       "<Figure size 432x288 with 1 Axes>"
      ]
     },
     "metadata": {
      "needs_background": "light"
     },
     "output_type": "display_data"
    }
   ],
   "source": [
    "import matplotlib\n",
    "plt.plot(results_df['Time'], results_df['The Guardian'], color='red', label= 'The Guardian')\n",
    "plt.plot(results_df['Time'], results_df['The Telegraph'], color='blue', label= 'The Telegraph')\n",
    "plt.plot(results_df['Time'], results_df['Government'], color='green', label= 'Government')\n",
    "plt.plot(results_df['Time'], results_df['Twitter'], color='black', label= 'Twitter')\n",
    "plt.title('Urgency over time', fontsize=14)\n",
    "plt.xlabel('Time period', fontsize=14)\n",
    "plt.ylabel('Urgency proportion', fontsize=14)\n",
    "plt.grid(True)\n",
    "plt.legend(loc='best')\n",
    "plt.show()"
   ]
  },
  {
   "cell_type": "markdown",
   "metadata": {},
   "source": [
    "<b>This is just to export data into something that can be graphed in R</b>"
   ]
  },
  {
   "cell_type": "code",
   "execution_count": 53,
   "metadata": {},
   "outputs": [
    {
     "name": "stdout",
     "output_type": "stream",
     "text": [
      "9.917391304347825\n",
      "9.860532110091743\n",
      "12.65795238095238\n",
      "7.592895\n",
      "8.6574375\n",
      "10.362981481481482\n",
      "10.580363636363636\n",
      "7.687694\n",
      "9.71496551724138\n",
      "7.605433333333333\n",
      "13.72956\n",
      "9.06406\n"
     ]
    }
   ],
   "source": [
    "#create dictionaries for every time period\n",
    "tp1list = [gtp1_dic,tetp1_dic,of1_dic,twtp1_dic]\n",
    "tp2list = [gtp2_dic,tetp2_dic,of2_dic,twtp2_dic]\n",
    "tp3list = [gtp3_dic,tetp3_dic,of3_dic,twtp3_dic]\n",
    "tp1 = {}\n",
    "tp2 = {}\n",
    "tp3 = {}\n",
    "for i in range(len(tp1list)):\n",
    "    tp1[i]=urgprop(tp1list[i], 0.4)\n",
    "for i in range(len(tp2list)):\n",
    "    tp2[i]=urgprop(tp2list[i], 0.4)\n",
    "for i in range(len(tp3list)):\n",
    "    tp3[i]=urgprop(tp3list[i], 0.4)"
   ]
  },
  {
   "cell_type": "code",
   "execution_count": 54,
   "metadata": {},
   "outputs": [],
   "source": [
    "#create dataframes\n",
    "dfexport1 = pd.DataFrame(index=np.arange(1000))\n",
    "dfexport2 = pd.DataFrame(index=np.arange(1000))\n",
    "dfexport3 = pd.DataFrame(index=np.arange(1000))"
   ]
  },
  {
   "cell_type": "code",
   "execution_count": 55,
   "metadata": {},
   "outputs": [],
   "source": [
    "#dynamically populate dataframes with dictionary data\n",
    "dfexport1['The Guardian']= pd.Series(tp1[0])\n",
    "dfexport1['The Telegraph'] = pd.Series(tp1[1])\n",
    "dfexport1['Official communication'] = pd.Series(tp1[2])\n",
    "dfexport1['Twitter'] = pd.Series(tp1[3])\n",
    "dfexport2['The Guardian'] = pd.Series(tp2[0])\n",
    "dfexport2['The Telegraph'] = pd.Series(tp2[1])\n",
    "dfexport2['Official communication']= pd.Series(tp2[2])\n",
    "dfexport2['Twitter']= pd.Series(tp2[3])\n",
    "dfexport3['The Guardian']= pd.Series(tp3[0])\n",
    "dfexport3['The Telegraph']= pd.Series(tp3[1])\n",
    "dfexport3['Official communication']= pd.Series(tp3[2])\n",
    "dfexport3['Twitter']= pd.Series(tp3[3])"
   ]
  },
  {
   "cell_type": "code",
   "execution_count": 56,
   "metadata": {},
   "outputs": [],
   "source": [
    "#export dataframes\n",
    "dfexport1.to_csv('./exporttp1.csv')\n",
    "dfexport2.to_csv('./exporttp2.csv')\n",
    "dfexport3.to_csv('./exporttp3.csv')"
   ]
  }
 ],
 "metadata": {
  "kernelspec": {
   "display_name": "Python 3 (ipykernel)",
   "language": "python",
   "name": "python3"
  },
  "language_info": {
   "codemirror_mode": {
    "name": "ipython",
    "version": 3
   },
   "file_extension": ".py",
   "mimetype": "text/x-python",
   "name": "python",
   "nbconvert_exporter": "python",
   "pygments_lexer": "ipython3",
   "version": "3.9.7"
  }
 },
 "nbformat": 4,
 "nbformat_minor": 4
}
